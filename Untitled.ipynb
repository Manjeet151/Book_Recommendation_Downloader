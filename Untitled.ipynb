{
 "cells": [
  {
   "cell_type": "code",
   "execution_count": 43,
   "id": "06f0f8f1-de84-4cab-968b-2e83ba559f89",
   "metadata": {},
   "outputs": [],
   "source": [
    "import pandas as pd\n",
    "from sklearn.feature_extraction.text import TfidfVectorizer\n",
    "from sklearn.metrics.pairwise import cosine_similarity"
   ]
  },
  {
   "cell_type": "code",
   "execution_count": 44,
   "id": "50578432-76c7-46cf-be1d-5ad6f5ce1228",
   "metadata": {},
   "outputs": [],
   "source": [
    "# Load datasets with specified encoding\n",
    "books = pd.read_csv(\"Books.csv\", encoding=\"latin1\")\n",
    "tags = pd.read_csv(\"Tags.csv\", encoding=\"latin1\")\n",
    "book_tags = pd.read_csv(\"Book_Tags.csv\", encoding=\"latin1\")"
   ]
  },
  {
   "cell_type": "code",
   "execution_count": 45,
   "id": "1b049707-abb3-49b4-bc1e-fb19f2bca09c",
   "metadata": {},
   "outputs": [],
   "source": [
    "# Create a lowercase title column for case-insensitive matching\n",
    "book_data['lower_title'] = book_data['title'].str.lower()"
   ]
  },
  {
   "cell_type": "code",
   "execution_count": 46,
   "id": "49a23abb-8916-4ed7-a603-4ccff7b41afb",
   "metadata": {},
   "outputs": [],
   "source": [
    "tfidf = TfidfVectorizer(stop_words='english')\n",
    "tfidf_matrix = tfidf.fit_transform(book_data['combined_tags'].fillna(\"\"))"
   ]
  },
  {
   "cell_type": "code",
   "execution_count": 47,
   "id": "4a915420-757c-46b0-ab74-01bac6092da6",
   "metadata": {},
   "outputs": [],
   "source": [
    "# Compute cosine similarity\n",
    "cosine_sim = cosine_similarity(tfidf_matrix, tfidf_matrix)\n"
   ]
  },
  {
   "cell_type": "code",
   "execution_count": 48,
   "id": "c04ed994-201a-4cec-8ebd-61ed4e22a041",
   "metadata": {},
   "outputs": [],
   "source": [
    "# Helper function to get recommendations by book title\n",
    "def get_recommendations_by_title(title, cosine_sim=cosine_sim, top_n=5):\n",
    "    lower_title = title.lower()\n",
    "    if lower_title not in book_data['lower_title'].values:\n",
    "        print(\"Book title not found in the dataset.\")\n",
    "        return []\n",
    "    idx = book_data[book_data['lower_title'] == lower_title].index[0]\n",
    "    sim_scores = list(enumerate(cosine_sim[idx]))\n",
    "    sim_scores = sorted(sim_scores, key=lambda x: x[1], reverse=True)\n",
    "    sim_scores = sim_scores[1:top_n+1]  # Exclude the first (itself)\n",
    "    book_indices = [i[0] for i in sim_scores]\n",
    "    recommendations = book_data.iloc[book_indices][['book_id', 'title']]\n",
    "    return recommendations"
   ]
  },
  {
   "cell_type": "code",
   "execution_count": 49,
   "id": "80915dd2-34f7-4962-b270-58efe5c6b195",
   "metadata": {},
   "outputs": [],
   "source": [
    "# Display top 10 books\n",
    "def display_top_books():\n",
    "    print(\"Top 10 Books:\")\n",
    "    top_books = books.nlargest(10, \"rating\")[['book_id', 'title', 'author', 'rating']]\n",
    "    print(top_books)"
   ]
  },
  {
   "cell_type": "code",
   "execution_count": null,
   "id": "8fa4865b-3202-412f-9efa-aa373fb7ff09",
   "metadata": {},
   "outputs": [
    {
     "name": "stdout",
     "output_type": "stream",
     "text": [
      "Top 10 Books:\n",
      "     book_id                                              title  \\\n",
      "12        12                Modern Compiler Implementation in C   \n",
      "72        72                         Introduction to algorithms   \n",
      "82        82  Mastering cloud computing: foundations and app...   \n",
      "145      145                                    Leviathan Wakes   \n",
      "23        23                                  Database Concepts   \n",
      "28        28                                     The Art of SQL   \n",
      "35        35          Discrete Mathematics and its Applications   \n",
      "39        39                   Fundamentals of Abstract Algebra   \n",
      "65        65  Data Structures Through C: Learn the fundament...   \n",
      "70        70   Algorithms and data structures: an approach in C   \n",
      "\n",
      "                                                author  rating  \n",
      "12                                      Andrew W Apple     4.8  \n",
      "72   Thomas H. Cormen, Charles E. Leiserson, Ronald L.     4.8  \n",
      "82   Rajkumar Buyya, Christian Vecchiola, S. Thamar...     4.8  \n",
      "145                                   James S.A. Corey     4.8  \n",
      "23                        David M. Kroenke, David Auer     4.7  \n",
      "28                     Faroult, Stephane,Robson, Peter     4.7  \n",
      "35                                    Kenneth H. Rosen     4.7  \n",
      "39            D. S. Malik, John M. Mordeson, M. K. Sen     4.7  \n",
      "65                                 Kanetkar, Yashavant     4.7  \n",
      "70                                   Bowman, Charles F     4.7  \n",
      "\n",
      "Type a Book Title to get recommendations or type 'exit' to quit.\n"
     ]
    },
    {
     "name": "stdin",
     "output_type": "stream",
     "text": [
      "Enter Book Title:  the art of sql\n"
     ]
    },
    {
     "name": "stdout",
     "output_type": "stream",
     "text": [
      "\n",
      "Recommendations for the book titled 'the art of sql':\n",
      "Book ID: 23, Title: Database Concepts\n",
      "Book ID: 24, Title: Database Management Systems\n",
      "Book ID: 25, Title: Database System Concepts\n",
      "Book ID: 26, Title: High-Performance MySQL\n",
      "Book ID: 27, Title: Seven Databases in Seven Weeks\n",
      "\n",
      "Type a Book Title to get recommendations or type 'exit' to quit.\n"
     ]
    }
   ],
   "source": [
    "# Main interactive functionality\n",
    "def main():\n",
    "    display_top_books()\n",
    "    while True:\n",
    "        try:\n",
    "            print(\"\\nType a Book Title to get recommendations or type 'exit' to quit.\")\n",
    "            user_input = input(\"Enter Book Title: \")\n",
    "            if user_input.lower() == \"exit\":\n",
    "                print(\"Exiting. Goodbye!\")\n",
    "                break\n",
    "\n",
    "            title = user_input.strip()\n",
    "            print(f\"\\nRecommendations for the book titled '{title}':\")\n",
    "            recommendations = get_recommendations_by_title(title)\n",
    "            if recommendations.empty:\n",
    "                print(\"No recommendations found.\")\n",
    "            else:\n",
    "                for _, row in recommendations.iterrows():\n",
    "                    print(f\"Book ID: {row['book_id']}, Title: {row['title']}\")\n",
    "        except ValueError:\n",
    "            print(\"Invalid input. Please enter a valid book title or 'exit' to quit.\")\n",
    "\n",
    "if __name__ == \"__main__\":\n",
    "    main()"
   ]
  },
  {
   "cell_type": "code",
   "execution_count": null,
   "id": "28123946-2e9d-48b4-9d94-134beba8fff5",
   "metadata": {},
   "outputs": [],
   "source": []
  }
 ],
 "metadata": {
  "kernelspec": {
   "display_name": "Python 3 (ipykernel)",
   "language": "python",
   "name": "python3"
  },
  "language_info": {
   "codemirror_mode": {
    "name": "ipython",
    "version": 3
   },
   "file_extension": ".py",
   "mimetype": "text/x-python",
   "name": "python",
   "nbconvert_exporter": "python",
   "pygments_lexer": "ipython3",
   "version": "3.8.10"
  }
 },
 "nbformat": 4,
 "nbformat_minor": 5
}
